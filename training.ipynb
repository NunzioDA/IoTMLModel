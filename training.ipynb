{
 "cells": [
  {
   "cell_type": "code",
   "execution_count": null,
   "metadata": {},
   "outputs": [],
   "source": [
    "import torch\n",
    "import torch.nn as nn\n",
    "import torch.nn.functional as F"
   ]
  },
  {
   "cell_type": "code",
   "execution_count": null,
   "metadata": {},
   "outputs": [
    {
     "name": "stdout",
     "output_type": "stream",
     "text": [
      "Epoca 1, Loss Addestramento: 0.37135235113757\n",
      "Accuratezza Validazione: 83.33%\n",
      "Epoca 2, Loss Addestramento: 0.11446536212627377\n",
      "Accuratezza Validazione: 100.00%\n",
      "Epoca 3, Loss Addestramento: 0.0575568408572248\n",
      "Accuratezza Validazione: 95.83%\n",
      "Epoca 4, Loss Addestramento: 0.024361980534324954\n",
      "Accuratezza Validazione: 97.92%\n",
      "Epoca 5, Loss Addestramento: 0.005580993157179494\n",
      "Accuratezza Validazione: 97.92%\n",
      "Epoca 6, Loss Addestramento: 0.005193545469540238\n",
      "Accuratezza Validazione: 97.92%\n",
      "Epoca 7, Loss Addestramento: 0.0148508017664426\n",
      "Accuratezza Validazione: 100.00%\n",
      "Epoca 8, Loss Addestramento: 0.001403005315556324\n",
      "Accuratezza Validazione: 100.00%\n"
     ]
    }
   ],
   "source": [
    "from torch import optim\n",
    "import os\n",
    "import torch\n",
    "from torch.utils.data import Dataset, DataLoader, random_split\n",
    "from torchvision import transforms\n",
    "from PIL import Image\n",
    "\n",
    "from model.classes.veichle_detection_cnn import *\n",
    "\n",
    "class CustomDataset(Dataset):\n",
    "    def __init__(self, target1_dir, target0_dir, transform=None):\n",
    "        \"\"\"\n",
    "        target1_dir: directory with images for target=1\n",
    "        target0_dir: directory with images for target=0\n",
    "        \"\"\"\n",
    "        self.target1_images = [os.path.join(target1_dir, f) for f in os.listdir(target1_dir)]\n",
    "        self.target0_images = [os.path.join(target0_dir, f) for f in os.listdir(target0_dir)]\n",
    "        self.images = self.target1_images + self.target0_images\n",
    "        self.labels = [1] * len(self.target1_images) + [0] * len(self.target0_images)\n",
    "        self.transform = transform\n",
    "\n",
    "    def __len__(self):\n",
    "        return len(self.images)\n",
    "\n",
    "    def __getitem__(self, idx):\n",
    "        image_path = self.images[idx]\n",
    "        image = Image.open(image_path).convert(\"RGB\")  # Load the image and convert it to RGB\n",
    "        label = self.labels[idx]\n",
    "\n",
    "        if self.transform:\n",
    "            image = self.transform(image)\n",
    "\n",
    "        return image, label\n",
    "\n",
    "\n",
    "# Folders containing the images\n",
    "target1_dir = './data/target1/'  # Replace with the path to the target1 folder\n",
    "target0_dir = './data/target0/'  # Replace with the path to the target0 folder\n",
    "\n",
    "# Create the custom dataset\n",
    "dataset = CustomDataset(target1_dir, target0_dir, transform=transform)\n",
    "\n",
    "# Split the dataset into training (90%) and validation (10%)\n",
    "train_size = int(0.9 * len(dataset))\n",
    "val_size = len(dataset) - train_size\n",
    "train_dataset, val_dataset = random_split(dataset, [train_size, val_size])\n",
    "\n",
    "# Create DataLoaders for training and validation\n",
    "train_loader = DataLoader(train_dataset, batch_size=32, shuffle=True)\n",
    "val_loader = DataLoader(val_dataset, batch_size=32, shuffle=False)\n",
    "\n",
    "# Initialize the model\n",
    "model = VehicleDetectionCNN()\n",
    "\n",
    "# Set the loss function and optimizer\n",
    "criterion = torch.nn.BCELoss()  # Binary Cross Entropy for a binary classification problem\n",
    "optimizer = optim.Adam(model.parameters(), lr=0.001)\n",
    "\n",
    "# Training function\n",
    "def train_model(model, train_loader, val_loader, criterion, optimizer, epochs=10):\n",
    "    for epoch in range(epochs):\n",
    "        model.train()\n",
    "        running_loss = 0.0\n",
    "        \n",
    "        for inputs, labels in train_loader:\n",
    "            optimizer.zero_grad()\n",
    "            outputs = model(inputs)\n",
    "            loss = criterion(outputs.squeeze(), labels.float())  # Labels in float format for BCELoss\n",
    "            loss.backward()\n",
    "            optimizer.step()\n",
    "            running_loss += loss.item()\n",
    "\n",
    "        print(f'Epoch {epoch+1}, Training Loss: {running_loss / len(train_loader)}')\n",
    "\n",
    "        # Evaluate the model on the validation data\n",
    "        model.eval()\n",
    "        correct = 0\n",
    "        total = 0\n",
    "        with torch.no_grad():\n",
    "            for inputs, labels in val_loader:\n",
    "                outputs = model(inputs)\n",
    "                predicted = (outputs.squeeze() > 0.5).float()  # Use 0.5 threshold for classification\n",
    "                total += labels.size(0)\n",
    "                correct += (predicted == labels).sum().item()\n",
    "\n",
    "        accuracy = correct / total\n",
    "        print(f'Validation Accuracy: {accuracy * 100:.2f}%')\n",
    "\n",
    "# Train the model\n",
    "train_model(model, train_loader, val_loader, criterion, optimizer, epochs=8)\n"
   ]
  },
  {
   "cell_type": "code",
   "execution_count": 3,
   "metadata": {},
   "outputs": [],
   "source": [
    "# train_model(model, train_loader, val_loader, criterion, optimizer, epochs=5)"
   ]
  },
  {
   "cell_type": "code",
   "execution_count": 4,
   "metadata": {},
   "outputs": [],
   "source": [
    "torch.save(model.state_dict(), './model/saved/park_model.pth')"
   ]
  }
 ],
 "metadata": {
  "kernelspec": {
   "display_name": "ski",
   "language": "python",
   "name": "python3"
  },
  "language_info": {
   "codemirror_mode": {
    "name": "ipython",
    "version": 3
   },
   "file_extension": ".py",
   "mimetype": "text/x-python",
   "name": "python",
   "nbconvert_exporter": "python",
   "pygments_lexer": "ipython3",
   "version": "undefined.undefined.undefined"
  }
 },
 "nbformat": 4,
 "nbformat_minor": 2
}
